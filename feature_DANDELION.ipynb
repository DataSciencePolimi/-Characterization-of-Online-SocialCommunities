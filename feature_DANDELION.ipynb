{
 "cells": [
  {
   "cell_type": "code",
   "execution_count": null,
   "metadata": {},
   "outputs": [],
   "source": [
    "from dandelion import DataTXT\n",
    "import sys\n",
    "import json\n",
    "import pymongo\n",
    "import math\n",
    "import csv\n",
    "import operator"
   ]
  },
  {
   "cell_type": "markdown",
   "metadata": {},
   "source": [
    "Login Dandelion:\n",
    "Create a Dandelion account and save credentials in credentialsDandelion.json:\n",
    "{'app_id': #app_id, 'app_key': #app_key}"
   ]
  },
  {
   "cell_type": "code",
   "execution_count": null,
   "metadata": {},
   "outputs": [],
   "source": [
    "def loginDandelion():\n",
    "    file = open('credentialsDandelion.json')\n",
    "    keys = json.load(file)\n",
    "    datatxt = DataTXT(app_id = keys['app_id'], app_key = keys['app_key'])\n",
    "    return datatxt"
   ]
  },
  {
   "cell_type": "code",
   "execution_count": null,
   "metadata": {},
   "outputs": [],
   "source": [
    "datatxt = loginDandelion()\n",
    "domain_name = 'Chess' #insert domain name"
   ]
  },
  {
   "cell_type": "code",
   "execution_count": null,
   "metadata": {},
   "outputs": [],
   "source": [
    "tweets = json.loads(open(domain_name+'_tweets.json').read())"
   ]
  },
  {
   "cell_type": "code",
   "execution_count": null,
   "metadata": {},
   "outputs": [],
   "source": [
    "out_dandelion = {}\n",
    "for account in tweets:\n",
    "    text = ''\n",
    "    for tweet in tweets[account]:\n",
    "        text += tweets[account][tweet]['text']\n",
    "    result = datatxt.nex(text, **{\"lang\": 'en',\"include\": \"types\",\"social.hashtag\": True,\"social.mention\": True,\"min_confidence\":0.})\n",
    "    out_dandelion[account] = result['annotations']\n",
    "    print(result)\n",
    "\n"
   ]
  },
  {
   "cell_type": "code",
   "execution_count": null,
   "metadata": {},
   "outputs": [],
   "source": [
    "final = {}\n",
    "for i in out_dandelion:\n",
    "    annotations = out_dandelion[i]\n",
    "    types = {}\n",
    "    instances = {}\n",
    "    for ann in annotations:\n",
    "        found = False\n",
    "        for t in ann['types']:\n",
    "            if t not in types:\n",
    "                types[t] = 1\n",
    "            else:\n",
    "                types[t] +=1\n",
    "            t = t.replace('http://dbpedia.org/ontology/','')\n",
    "            if ann['label'] not in instances:\n",
    "                instances[ann['label']] = 1\n",
    "            else:\n",
    "                instances[ann['label']] +=1\n",
    "    final[i] = {'types':types, 'instances':instances}"
   ]
  },
  {
   "cell_type": "code",
   "execution_count": null,
   "metadata": {},
   "outputs": [],
   "source": [
    "types = {}\n",
    "instances = {}\n",
    "for account in final:\n",
    "    types[account] = {}\n",
    "    instances[account] = {}\n",
    "    types[account]['types'] = final[account]['types']\n",
    "    instances[account]['instances'] = final[account]['instances']"
   ]
  },
  {
   "cell_type": "code",
   "execution_count": null,
   "metadata": {},
   "outputs": [],
   "source": [
    "j_types = json.dumps(types)\n",
    "open(domain_name+'_types.json', 'w').write(j_types)\n",
    "\n"
   ]
  },
  {
   "cell_type": "code",
   "execution_count": null,
   "metadata": {},
   "outputs": [],
   "source": [
    "j_instances = json.dumps(instances)\n",
    "open(domain_name+'_instances.json', 'w').write(j_instances)\n",
    "\n"
   ]
  },
  {
   "cell_type": "code",
   "execution_count": null,
   "metadata": {},
   "outputs": [],
   "source": []
  }
 ],
 "metadata": {
  "kernelspec": {
   "display_name": "Python 3",
   "language": "python",
   "name": "python3"
  },
  "language_info": {
   "codemirror_mode": {
    "name": "ipython",
    "version": 3
   },
   "file_extension": ".py",
   "mimetype": "text/x-python",
   "name": "python",
   "nbconvert_exporter": "python",
   "pygments_lexer": "ipython3",
   "version": "3.6.5"
  }
 },
 "nbformat": 4,
 "nbformat_minor": 2
}
