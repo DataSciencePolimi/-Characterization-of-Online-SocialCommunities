{
 "cells": [
  {
   "cell_type": "code",
   "execution_count": 3,
   "metadata": {},
   "outputs": [],
   "source": [
    "import json\n",
    "import pandas as pd\n",
    "import scipy\n",
    "import numpy as np\n",
    "from scipy.stats import entropy\n",
    "from nltk.tokenize import word_tokenize\n",
    "import nltk\n",
    "from nltk.tag import pos_tag"
   ]
  },
  {
   "cell_type": "code",
   "execution_count": 4,
   "metadata": {},
   "outputs": [],
   "source": [
    "def proper_name(d): \n",
    "    dict_tot = {}\n",
    "    texts = {}\n",
    "    for user in d:\n",
    "        texts[user] = \"\"\n",
    "        for t in d[user]:\n",
    "            texts[user] += d[user][t]['text'] + \". \"\n",
    "    print('end')\n",
    "    for user in texts:\n",
    "        print(user)\n",
    "        text = texts[user]\n",
    "        text_tokenized = word_tokenize(text)\n",
    "        text_tagged = nltk.pos_tag(text_tokenized, tagset='universal')\n",
    "        tagged_sent = nltk.pos_tag(text_tokenized)\n",
    "        \n",
    "        verbs_better = [word for word,pos in tagged_sent if pos == 'NNP']\n",
    "\n",
    "        dict_verbs = {}\n",
    "\n",
    "\n",
    "        for v in verbs_better:\n",
    "            if v not in dict_verbs:\n",
    "                dict_verbs[v] = 0\n",
    "            dict_verbs[v] += 1\n",
    "        dict_tot[user] = {}\n",
    "        dict_tot[user]['NNP'] = dict_verbs\n",
    "    return dict_tot"
   ]
  },
  {
   "cell_type": "code",
   "execution_count": 5,
   "metadata": {},
   "outputs": [],
   "source": [
    "def words(d, what): \n",
    "    dict_tot = {}\n",
    "    texts = {}\n",
    "    for user in d:\n",
    "        texts[user] = \"\"\n",
    "        for t in d[user]:\n",
    "            texts[user] += d[user][t]['text'] + \". \"\n",
    "    print('end')\n",
    "    for user in texts:\n",
    "        print(user)\n",
    "        text = texts[user]\n",
    "        text_tokenized = word_tokenize(text)\n",
    "        text_tagged = nltk.pos_tag(text_tokenized, tagset='universal')\n",
    "        tagged_sent = nltk.pos_tag(text_tokenized)\n",
    "        \n",
    "        '''\n",
    "        verbs_better = [word for word,pos in tagged_sent if pos == 'NNP' or pos == 'NN']\n",
    "        '''\n",
    "        tag_fd = nltk.FreqDist(tag for (word, tag) in text_tagged)\n",
    "        word_tag_fd = nltk.FreqDist(word.lower() for (word, tag) in text_tagged if tag==what)\n",
    "        verbs_better = []\n",
    "        for v in word_tag_fd:\n",
    "            verbs_better.append((nltk.stem.WordNetLemmatizer().lemmatize(v.lower(), 'v'), word_tag_fd[v]))\n",
    "        \n",
    "        dict_verbs = {}\n",
    "        \n",
    "        for v in verbs_better:\n",
    "            if v[0].isalpha():\n",
    "                if v[0] not in dict_verbs:\n",
    "                    dict_verbs[v[0]] = 0\n",
    "                dict_verbs[v[0]] += v[1]\n",
    "        '''\n",
    "        for v in verbs_better:\n",
    "            if v not in dict_verbs:\n",
    "                dict_verbs[v] = 0\n",
    "            dict_verbs[v] += 1\n",
    "        '''\n",
    "        dict_tot[user] = {}\n",
    "        dict_tot[user][what] = dict_verbs\n",
    "    return dict_tot"
   ]
  },
  {
   "cell_type": "code",
   "execution_count": 10,
   "metadata": {},
   "outputs": [],
   "source": [
    "domain_file = 'Chess' #insert domain name"
   ]
  },
  {
   "cell_type": "code",
   "execution_count": 11,
   "metadata": {},
   "outputs": [],
   "source": [
    "data = json.loads(open(domain_file + '_tweets.json').read())"
   ]
  },
  {
   "cell_type": "code",
   "execution_count": 8,
   "metadata": {},
   "outputs": [
    {
     "name": "stdout",
     "output_type": "stream",
     "text": [
      "end\n",
      "MickeyAdamsGM\n",
      "LevAronian\n",
      "MauriceAshley\n",
      "MagnusCarlsen\n",
      "FabianoCaruana\n",
      "CristianChirila\n",
      "PiaCramling\n",
      "HarikaDronavali\n",
      "anishgiri\n",
      "chessninja\n",
      "GMJanGustafsson\n",
      "gmjlh\n",
      "GMLars\n",
      "GMGawain\n",
      "IGMGataKamsky\n",
      "NastiaKarlovich\n",
      "Kasparov63\n",
      "DanielKingChess\n",
      "alinalami\n",
      "erwinlami\n",
      "end\n",
      "MickeyAdamsGM\n",
      "LevAronian\n",
      "MauriceAshley\n",
      "MagnusCarlsen\n",
      "FabianoCaruana\n",
      "CristianChirila\n",
      "PiaCramling\n",
      "HarikaDronavali\n",
      "anishgiri\n",
      "chessninja\n",
      "GMJanGustafsson\n",
      "gmjlh\n",
      "GMLars\n",
      "GMGawain\n",
      "IGMGataKamsky\n",
      "NastiaKarlovich\n",
      "Kasparov63\n",
      "DanielKingChess\n",
      "alinalami\n",
      "erwinlami\n",
      "end\n",
      "MickeyAdamsGM\n",
      "LevAronian\n",
      "MauriceAshley\n",
      "MagnusCarlsen\n",
      "FabianoCaruana\n",
      "CristianChirila\n",
      "PiaCramling\n",
      "HarikaDronavali\n",
      "anishgiri\n",
      "chessninja\n",
      "GMJanGustafsson\n",
      "gmjlh\n",
      "GMLars\n",
      "GMGawain\n",
      "IGMGataKamsky\n",
      "NastiaKarlovich\n",
      "Kasparov63\n",
      "DanielKingChess\n",
      "alinalami\n",
      "erwinlami\n"
     ]
    }
   ],
   "source": [
    "data_nnp = proper_name(data)\n",
    "data_verb = words(data, 'VERB')\n",
    "data_noun = words(data, 'NOUN')"
   ]
  },
  {
   "cell_type": "code",
   "execution_count": 14,
   "metadata": {},
   "outputs": [
    {
     "data": {
      "text/plain": [
       "28840"
      ]
     },
     "execution_count": 14,
     "metadata": {},
     "output_type": "execute_result"
    }
   ],
   "source": [
    "output_file = 'Chess' #insert domain name\n",
    "open(output_file+'_NNP.json','w').write(json.dumps(data_nnp))\n",
    "open(output_file+'_NOUN.json','w').write(json.dumps(data_noun))\n",
    "open(output_file+'_VERB.json','w').write(json.dumps(data_verb))"
   ]
  },
  {
   "cell_type": "code",
   "execution_count": null,
   "metadata": {},
   "outputs": [],
   "source": []
  }
 ],
 "metadata": {
  "kernelspec": {
   "display_name": "Python 3",
   "language": "python",
   "name": "python3"
  },
  "language_info": {
   "codemirror_mode": {
    "name": "ipython",
    "version": 3
   },
   "file_extension": ".py",
   "mimetype": "text/x-python",
   "name": "python",
   "nbconvert_exporter": "python",
   "pygments_lexer": "ipython3",
   "version": "3.6.5"
  }
 },
 "nbformat": 4,
 "nbformat_minor": 2
}
