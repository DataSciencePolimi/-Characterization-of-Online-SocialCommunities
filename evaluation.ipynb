{
 "cells": [
  {
   "cell_type": "code",
   "execution_count": null,
   "metadata": {},
   "outputs": [],
   "source": [
    "from scipy.spatial.distance import cosine\n",
    "import json\n",
    "import pandas as pd\n",
    "import scipy\n",
    "import numpy as np\n",
    "from scipy.stats import entropy"
   ]
  },
  {
   "cell_type": "code",
   "execution_count": null,
   "metadata": {},
   "outputs": [],
   "source": [
    "Domains = ['Chess','Fashion', 'AW', 'Finance']\n",
    "\n",
    "All_Features = ['types', 'instances', 'NOUN', 'VERB', 'NNP']"
   ]
  },
  {
   "cell_type": "code",
   "execution_count": null,
   "metadata": {},
   "outputs": [],
   "source": [
    "def create_freq(dict_seed, what):\n",
    "    freq = {}\n",
    "    for i in dict_seed:\n",
    "        if (len(dict_seed[i][what])>0):\n",
    "            freq[i] = create_freq_true(dict_seed[i][what], what)\n",
    "    return freq"
   ]
  },
  {
   "cell_type": "code",
   "execution_count": null,
   "metadata": {},
   "outputs": [],
   "source": [
    "def create_centroid(l, freq):\n",
    "    data = pd.DataFrame(freq)\n",
    "    data = data.fillna(0)\n",
    "    data_to_sum = data[l[1:]]\n",
    "    print(l)\n",
    "    values = data[l[0]]\n",
    "    \n",
    "    l = l[1:]\n",
    "    for name in l:\n",
    "        values += data_to_sum[name]\n",
    "    return values/len(l)"
   ]
  },
  {
   "cell_type": "code",
   "execution_count": null,
   "metadata": {},
   "outputs": [],
   "source": [
    "def create_freq_true(dictTypes, what):\n",
    "    freq = {}\n",
    "    for k in dictTypes:\n",
    "        if what != 'types' and what != 'instances':\n",
    "            if k.isalpha():\n",
    "                freq[k] = dictTypes[k]\n",
    "        else:\n",
    "            freq[k] = dictTypes[k]\n",
    "    count = np.sum(list(freq.values()))\n",
    "    for k in freq:\n",
    "        freq[k] = freq[k]/count\n",
    "    return freq\n",
    "\n"
   ]
  },
  {
   "cell_type": "code",
   "execution_count": null,
   "metadata": {},
   "outputs": [],
   "source": [
    "def evaluation_cosine(freq, name, centroid):\n",
    "    values = {}\n",
    "    for f in freq:\n",
    "        if f != name:\n",
    "            s = pd.DataFrame({f:freq[f], name:centroid})\n",
    "            s = s.fillna(0)\n",
    "            values[f] = cosine(s[f], s[name])\n",
    "    return values"
   ]
  },
  {
   "cell_type": "code",
   "execution_count": null,
   "metadata": {},
   "outputs": [],
   "source": [
    "def evaluate(centroid, good, bad):\n",
    "    distances = ['cosine']\n",
    "    results = {}\n",
    "    results['cosine'] = evaluation_cosine(good, 'centroid', centroid)\n",
    "    results['cosine'].update(evaluation_cosine(bad, 'centroid', centroid))\n",
    "    values = pd.Series(results['cosine']).sort_values()\n",
    "    correct = 0\n",
    "    precision = {}\n",
    "    for i in range(len(values)):\n",
    "        if values.index[i] in good:\n",
    "            correct+=1\n",
    "            precision[i] = correct/(i+1)\n",
    "        else:\n",
    "            if i == 0:\n",
    "                precision[i] = 0\n",
    "            else:\n",
    "                precision[i] = precision[i-1]\n",
    "    return precision, values"
   ]
  },
  {
   "cell_type": "markdown",
   "metadata": {},
   "source": [
    "create feature vectors for all features in all domains"
   ]
  },
  {
   "cell_type": "code",
   "execution_count": null,
   "metadata": {},
   "outputs": [],
   "source": [
    "freq_domains = {}\n",
    "for d in Domains:\n",
    "    freq_domains[d] = {}\n",
    "    for f in All_Features:\n",
    "        dom = json.loads(open(d+'_'+f+'.json').read())\n",
    "        dom2 = {}\n",
    "        for j in dom:\n",
    "            dom2[j.lower()] = dom[j]\n",
    "        freq_domains[d][f] = create_freq(dom2, f)"
   ]
  },
  {
   "cell_type": "code",
   "execution_count": null,
   "metadata": {},
   "outputs": [],
   "source": [
    "random = '' #insert file name random"
   ]
  },
  {
   "cell_type": "code",
   "execution_count": null,
   "metadata": {},
   "outputs": [],
   "source": [
    "freq_random = {}\n",
    "for r in random:\n",
    "    freq_random[r] = {}\n",
    "    for f in Features:\n",
    "        freq_random[r][f] = ev.create_freq(json.loads(open(r+'_'+f+'.json').read()), f)"
   ]
  },
  {
   "cell_type": "markdown",
   "metadata": {},
   "source": [
    "prendere solo accounts con più di 50 tweets"
   ]
  },
  {
   "cell_type": "code",
   "execution_count": null,
   "metadata": {},
   "outputs": [],
   "source": [
    "bad = {}\n",
    "for f in All_Features:\n",
    "    bad[f] = {}\n",
    "for name_file in random:\n",
    "    print(name_file)\n",
    "    data = json.loads(open(file_path+name_file+'_tweets.json').read())\n",
    "    lens = {}\n",
    "    for user in data:\n",
    "        lens[user] = len(data[user])\n",
    "    \n",
    "    for feat in All_Features:\n",
    "        for user in freq_random[name_file][feat]:\n",
    "            if user in lens:\n",
    "                if lens[user] > 50:\n",
    "                    bad[feat][user] = freq_random[name_file][feat][user]"
   ]
  },
  {
   "cell_type": "markdown",
   "metadata": {},
   "source": [
    "calculate precision"
   ]
  },
  {
   "cell_type": "code",
   "execution_count": null,
   "metadata": {},
   "outputs": [],
   "source": [
    "all_precision = {}\n",
    "for dom in Domains:\n",
    "    all_precision[dom] = {}\n",
    "    combination_name = dom+'_Combinations.json' #take the 50 random combination created to split seeds and candidates\n",
    "    combination = json.loads(open(combination_name).read())\n",
    "    for f in All_Features:\n",
    "        precision = {}\n",
    "        for j in range(10+len(bad)):\n",
    "            precision[j] = 0\n",
    "        k = list(freq_domains[dom][f].keys())\n",
    "        for i in range(50):\n",
    "            cent = create_centroid(combination[str(i)], freq_domains[dom][f])\n",
    "            good = {}\n",
    "            for name in k:\n",
    "                if name not in combination[str(i)]:\n",
    "                    good[name] = freq_domains[dom][f][name]\n",
    "            prec, _ = evaluate(cent, good, bad)\n",
    "            print(prec)\n",
    "            for j in range(len(good)+len(bad)):\n",
    "                    precision[j] += prec[j]\n",
    "        for i in range(len(precision)):\n",
    "            precision[i] /= 50\n",
    "        all_precision[dom][f] = precision"
   ]
  },
  {
   "cell_type": "code",
   "execution_count": null,
   "metadata": {},
   "outputs": [],
   "source": [
    "for dom in Domains:\n",
    "    for f in All_Features:\n",
    "        print('dom','f',all_precision[dom][f][10])"
   ]
  },
  {
   "cell_type": "code",
   "execution_count": null,
   "metadata": {},
   "outputs": [],
   "source": []
  },
  {
   "cell_type": "code",
   "execution_count": null,
   "metadata": {},
   "outputs": [],
   "source": []
  }
 ],
 "metadata": {
  "kernelspec": {
   "display_name": "Python 3",
   "language": "python",
   "name": "python3"
  },
  "language_info": {
   "codemirror_mode": {
    "name": "ipython",
    "version": 3
   },
   "file_extension": ".py",
   "mimetype": "text/x-python",
   "name": "python",
   "nbconvert_exporter": "python",
   "pygments_lexer": "ipython3",
   "version": "3.6.5"
  }
 },
 "nbformat": 4,
 "nbformat_minor": 2
}
